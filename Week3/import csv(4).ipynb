{
 "cells": [
  {
   "cell_type": "markdown",
   "id": "475c80d3",
   "metadata": {},
   "source": [
    "# import csv(4)\n",
    "* 최고기온 및 날짜 구하기"
   ]
  },
  {
   "cell_type": "code",
   "execution_count": 1,
   "id": "bfdacedc",
   "metadata": {},
   "outputs": [
    {
     "name": "stdout",
     "output_type": "stream",
     "text": [
      "1949-07-16 38.9\n"
     ]
    }
   ],
   "source": [
    "import csv # csv 모듈 불러오기\n",
    "\n",
    "f = open('incheon_weather.csv','r') # 파일 읽기 모드로 불러오기\n",
    "data = csv.reader(f) # csv 모듈중 reader() 함수 불러오기\n",
    "header = next(data) # data의 첫번째 행 저장하기\n",
    "\n",
    "max_temp = -999\n",
    "max_date = ''\n",
    "\n",
    "for row in data:\n",
    "    if row[-1]=='': # 공란일 경우 / 데이터값이 누락되어 있는 경우\n",
    "        row[-1]=-999\n",
    "    row[4]=float(row[4])\n",
    "    if row[4]>max_temp:\n",
    "        max_temp=row[4]\n",
    "        max_date=row[-5]\n",
    "        \n",
    "print(max_date, max_temp)\n",
    "f.close()"
   ]
  }
 ],
 "metadata": {
  "kernelspec": {
   "display_name": "Python 3",
   "language": "python",
   "name": "python3"
  },
  "language_info": {
   "codemirror_mode": {
    "name": "ipython",
    "version": 3
   },
   "file_extension": ".py",
   "mimetype": "text/x-python",
   "name": "python",
   "nbconvert_exporter": "python",
   "pygments_lexer": "ipython3",
   "version": "3.8.8"
  }
 },
 "nbformat": 4,
 "nbformat_minor": 5
}
