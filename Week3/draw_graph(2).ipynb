{
 "cells": [
  {
   "cell_type": "markdown",
   "id": "c621d9f6",
   "metadata": {},
   "source": [
    "# draw_graph(2)\n",
    "* 배열을 그래프로 표시하기\n",
    "* 문자열을 분리하는 split() 함수"
   ]
  },
  {
   "cell_type": "code",
   "execution_count": 2,
   "id": "eeb271d9",
   "metadata": {},
   "outputs": [
    {
     "name": "stdout",
     "output_type": "stream",
     "text": [
      "['Hello', 'World']\n"
     ]
    }
   ],
   "source": [
    "s = 'Hello World'\n",
    "print(s.split())"
   ]
  },
  {
   "cell_type": "code",
   "execution_count": 5,
   "id": "29ef2857",
   "metadata": {},
   "outputs": [
    {
     "name": "stdout",
     "output_type": "stream",
     "text": [
      "['1997', '07', '12']\n",
      "07\n"
     ]
    }
   ],
   "source": [
    "s = '1997-07-12'\n",
    "print(s.split('-'))\n",
    "print(s.split('-')[1])"
   ]
  }
 ],
 "metadata": {
  "kernelspec": {
   "display_name": "Python 3",
   "language": "python",
   "name": "python3"
  },
  "language_info": {
   "codemirror_mode": {
    "name": "ipython",
    "version": 3
   },
   "file_extension": ".py",
   "mimetype": "text/x-python",
   "name": "python",
   "nbconvert_exporter": "python",
   "pygments_lexer": "ipython3",
   "version": "3.8.8"
  }
 },
 "nbformat": 4,
 "nbformat_minor": 5
}
