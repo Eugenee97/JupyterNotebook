{
 "cells": [
  {
   "cell_type": "markdown",
   "id": "249d3e7b",
   "metadata": {},
   "source": [
    "# import csv(1)"
   ]
  },
  {
   "cell_type": "code",
   "execution_count": 6,
   "id": "da703e58",
   "metadata": {},
   "outputs": [
    {
     "ename": "IndentationError",
     "evalue": "unexpected indent (<ipython-input-6-e9c12ab945c2>, line 6)",
     "output_type": "error",
     "traceback": [
      "\u001b[1;36m  File \u001b[1;32m\"<ipython-input-6-e9c12ab945c2>\"\u001b[1;36m, line \u001b[1;32m6\u001b[0m\n\u001b[1;33m    for row in data:\u001b[0m\n\u001b[1;37m    ^\u001b[0m\n\u001b[1;31mIndentationError\u001b[0m\u001b[1;31m:\u001b[0m unexpected indent\n"
     ]
    }
   ],
   "source": [
    "import csv\n",
    "\n",
    "f = open('incheon_weather.csv','r')\n",
    "data = csv.reader(f)\n",
    "\n",
    " for row in data:\n",
    "#    print(row)\n",
    "    \n",
    "f.close()"
   ]
  }
 ],
 "metadata": {
  "kernelspec": {
   "display_name": "Python 3",
   "language": "python",
   "name": "python3"
  },
  "language_info": {
   "codemirror_mode": {
    "name": "ipython",
    "version": 3
   },
   "file_extension": ".py",
   "mimetype": "text/x-python",
   "name": "python",
   "nbconvert_exporter": "python",
   "pygments_lexer": "ipython3",
   "version": "3.8.8"
  }
 },
 "nbformat": 4,
 "nbformat_minor": 5
}
