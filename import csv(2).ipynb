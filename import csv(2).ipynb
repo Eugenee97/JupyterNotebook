{
 "cells": [
  {
   "cell_type": "markdown",
   "id": "9e2ae48e",
   "metadata": {},
   "source": [
    "# import csv\n",
    "* header, next()"
   ]
  },
  {
   "cell_type": "code",
   "execution_count": 4,
   "id": "2bcde33b",
   "metadata": {},
   "outputs": [
    {
     "name": "stdout",
     "output_type": "stream",
     "text": [
      "['날짜', '지점', '평균기온(℃)', '최저기온(℃)', '최고기온(℃)']\n"
     ]
    }
   ],
   "source": [
    "import csv\n",
    "\n",
    "f = open('incheon_weather.csv','r')\n",
    "data= csv.reader(f)\n",
    "header=next(data)\n",
    "print(header)\n",
    "\n",
    "# for row in(data):\n",
    "#    print(row)\n",
    "f.close()"
   ]
  }
 ],
 "metadata": {
  "kernelspec": {
   "display_name": "Python 3",
   "language": "python",
   "name": "python3"
  },
  "language_info": {
   "codemirror_mode": {
    "name": "ipython",
    "version": 3
   },
   "file_extension": ".py",
   "mimetype": "text/x-python",
   "name": "python",
   "nbconvert_exporter": "python",
   "pygments_lexer": "ipython3",
   "version": "3.8.8"
  }
 },
 "nbformat": 4,
 "nbformat_minor": 5
}
